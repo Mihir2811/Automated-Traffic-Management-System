{
  "nbformat": 4,
  "nbformat_minor": 0,
  "metadata": {
    "colab": {
      "provenance": []
    },
    "kernelspec": {
      "name": "python3",
      "display_name": "Python 3"
    },
    "language_info": {
      "name": "python"
    }
  },
  "cells": [
    {
      "cell_type": "code",
      "execution_count": null,
      "metadata": {
        "id": "JgA4l5yXZ06r"
      },
      "outputs": [],
      "source": [
        "# ITMS PROJECT"
      ]
    },
    {
      "cell_type": "code",
      "source": [
        "# Python code for a traffic signal simulation where the red light stays on for 30 seconds and the green light stays on for 20 seconds:\n",
        "\n",
        "import time\n",
        "\n",
        "def traffic_signal():\n",
        "    print(\"Traffic Signal Simulation\")\n",
        "    while True:\n",
        "        print(\"Red light - Stop\")\n",
        "        time.sleep(30)  # Pause for 30 seconds\n",
        "\n",
        "        print(\"Green light - Go\")\n",
        "        time.sleep(20)  # Pause for 20 seconds\n",
        "\n",
        "        print(\"Yellow light - Prepare to stop\")\n",
        "        time.sleep(3)  # Pause for 3 seconds\n",
        "\n",
        "# Run the traffic signal simulation\n",
        "traffic_signal()"
      ],
      "metadata": {
        "id": "vf3FzPyJbORP"
      },
      "execution_count": null,
      "outputs": []
    },
    {
      "cell_type": "code",
      "source": [
        "# To generate a positive flag when a physical run button is pressed to generate a radio frequency of 434 MHz using Python and a Raspberry Pi\n",
        "\n",
        "from gpiozero import Button, OutputDevice\n",
        "import RPi.GPIO as GPIO\n",
        "import time\n",
        "\n",
        "# Set up the GPIO pins\n",
        "GPIO.setmode(GPIO.BCM)\n",
        "GPIO.setup(17, GPIO.OUT)\n",
        "GPIO.setup(27, GPIO.IN, pull_up_down=GPIO.PUD_UP)\n",
        "\n",
        "# Create an OutputDevice for the RF output pin\n",
        "rf_output = OutputDevice(17)\n",
        "\n",
        "# Create a Button for the run button pin\n",
        "run_button = Button(27)\n",
        "\n",
        "# Function to generate the radio frequency signal\n",
        "def generate_rf_signal():\n",
        "    rf_output.on(434e6)\n",
        "    time.sleep(1)  # Adjust the duration as needed\n",
        "    rf_output.off()\n",
        "\n",
        "# Wait for the run button to be pressed\n",
        "run_button.wait_for_press()\n",
        "\n",
        "# Generate the RF signal when the run button is pressed\n",
        "generate_rf_signal()\n",
        "\n",
        "# Cleanup GPIO resources\n",
        "GPIO.cleanup()"
      ],
      "metadata": {
        "id": "nJDoUg1AiwOL"
      },
      "execution_count": null,
      "outputs": []
    },
    {
      "cell_type": "code",
      "source": [
        "\n",
        "# To create a radio receiver Python code that gives an affirmation when a signal is received at a specific frequency (434 MHz)\n",
        "\n",
        "import numpy as np\n",
        "from matplotlib import pyplot as plt\n",
        "from rtlsdr import RtlSdr\n",
        "\n",
        "# Configure RTL-SDR parameters\n",
        "sdr = RtlSdr()\n",
        "sdr.sample_rate = 2.4e6  # Sample rate (Hz)\n",
        "sdr.center_freq = 434e6  # Center frequency (Hz)\n",
        "sdr.gain = 'auto'\n",
        "\n",
        "# Read samples from the RTL-SDR dongle\n",
        "samples = sdr.read_samples(256 * 1024)\n",
        "\n",
        "# Perform Fast Fourier Transform (FFT)\n",
        "fft_data = np.fft.fft(samples)\n",
        "\n",
        "# Compute the power spectral density (PSD) of the signal\n",
        "psd = np.abs(fft_data) ** 2\n",
        "\n",
        "# Get the frequencies corresponding to the PSD\n",
        "freqs = np.fft.fftfreq(len(psd), 1 / sdr.sample_rate)\n",
        "\n",
        "# Find the index corresponding to 434 MHz\n",
        "target_freq = 434e6\n",
        "index = np.abs(freqs - target_freq).argmin()\n",
        "\n",
        "# Threshold for signal detection\n",
        "threshold = 10  # Adjust as needed\n",
        "\n",
        "# Check if the PSD at the target frequency exceeds the threshold\n",
        "if 10 * np.log10(psd[index]) > threshold:\n",
        "    print(\"Affirmation: Signal detected at 434 MHz!\")\n",
        "    print(\"Presence of an Ambulance Detected\")\n",
        "else:\n",
        "    print(\"No signal detected at 434 MHz.\")\n",
        "\n",
        "# Close the RTL-SDR connection\n",
        "sdr.close()"
      ],
      "metadata": {
        "id": "XQRqUVy2bnMo"
      },
      "execution_count": null,
      "outputs": []
    },
    {
      "cell_type": "code",
      "source": [
        "#To take the output of one Receiver code and use it as the input for another affirmation code\n",
        "\n",
        "import subprocess\n",
        "\n",
        "# Run the first code and capture its output\n",
        "output1 = subprocess.check_output(['python', 'first_code.py']).decode().strip()\n",
        "\n",
        "# Run the second code with the output of the first code as input\n",
        "output2 = subprocess.check_output(['python', 'second_code.py', output1]).decode().strip()\n",
        "\n",
        "# Print the final output\n",
        "print(\"Output of the second code:\", output2)"
      ],
      "metadata": {
        "id": "ui9OmgizgiGn"
      },
      "execution_count": null,
      "outputs": []
    },
    {
      "cell_type": "code",
      "source": [
        "# Python code that prompts the user for input and prints an affirmation if the input matches a specified variable:\n",
        "\n",
        "specified_variable = \"Presence of an Ambulance Detected\"\n",
        "\n",
        "user_input = input(\"Enter a value: \")\n",
        "\n",
        "if user_input == specified_variable:\n",
        "    print(\"Affirmation: Input matches the specified variable!\")\n",
        "else:\n",
        "    print(\"Input does not match the specified variable.\")"
      ],
      "metadata": {
        "colab": {
          "base_uri": "https://localhost:8080/"
        },
        "id": "OLskpRobgBH1",
        "outputId": "3cdd5b23-f923-4e9c-9a7a-e0b157a0c956"
      },
      "execution_count": null,
      "outputs": [
        {
          "output_type": "stream",
          "name": "stdout",
          "text": [
            "Enter a value: hello\n",
            "Input does not match the specified variable.\n"
          ]
        }
      ]
    },
    {
      "cell_type": "code",
      "source": [
        "# Python code to Manipulating traffic lights with Affirmation signal\n",
        "\n",
        "from gpiozero import LED\n",
        "import RPi.GPIO as GPIO\n",
        "\n",
        "# Set up the GPIO pins for the traffic signal\n",
        "GPIO.setmode(GPIO.BCM)\n",
        "red_led = LED(17)\n",
        "yellow_led = LED(27)\n",
        "green_led = LED(22)\n",
        "\n",
        "# Function to control the traffic signal\n",
        "def set_traffic_signal(color):\n",
        "    # Turn off all LEDs\n",
        "    red_led.off()\n",
        "    yellow_led.off()\n",
        "    green_led.off()\n",
        "\n",
        "    # Set the appropriate LED based on the color input\n",
        "    if color == 'red':\n",
        "        red_led.on()\n",
        "    elif color == 'yellow':\n",
        "        yellow_led.on()\n",
        "    elif color == 'green':\n",
        "        green_led.on()\n",
        "\n",
        "# Wait for user input to control the traffic signal\n",
        "while True:\n",
        "    user_input = input(\"Enter the color (red/yellow/green) or 'exit' to quit: \").lower()\n",
        "\n",
        "    if user_input == 'exit':\n",
        "        break\n",
        "\n",
        "    set_traffic_signal(user_input)\n",
        "\n",
        "# Cleanup GPIO resources\n",
        "GPIO.cleanup()\n"
      ],
      "metadata": {
        "id": "cO2NRzm0j7_p"
      },
      "execution_count": null,
      "outputs": []
    },
    {
      "cell_type": "code",
      "source": [
        "# generate three input codes for one program, all with the value 'red', and one input code for another program with the value 'green'\n",
        "\n",
        "# Generate input codes for the first program (red)\n",
        "input_codes_red = ['red', 'red', 'red']\n",
        "\n",
        "# Generate input code for the second program (green)\n",
        "input_code_green = 'green'\n",
        "\n",
        "# Use the input codes for the respective programs\n",
        "# First program\n",
        "for input_code in input_codes_red:\n",
        "    # Call the first program with the input code\n",
        "    # Code to run the first program with input code goes here\n",
        "    print(\"Running first program with input:\", input_code)\n",
        "\n",
        "# Second program\n",
        "# Call the second program with the input code\n",
        "# Code to run the second program with input code goes here\n",
        "print(\"Running second program with input:\", input_code_green)"
      ],
      "metadata": {
        "id": "qwNUgmykknW1"
      },
      "execution_count": null,
      "outputs": []
    },
    {
      "cell_type": "code",
      "source": [
        " # a simple linear regression model to reduce traffic using machine learning\n",
        "\n",
        " import numpy as np\n",
        "from sklearn.linear_model import LinearRegression\n",
        "\n",
        "# Input data (features)\n",
        "# Assuming we have historical data of traffic volume (X) and corresponding travel time (y)\n",
        "X = np.array([[100], [200], [300], [400], [500]])  # Traffic volume in vehicles per hour\n",
        "y = np.array([20, 30, 40, 50, 60])  # Travel time in minutes\n",
        "\n",
        "# Create a linear regression model\n",
        "model = LinearRegression()\n",
        "\n",
        "# Train the model\n",
        "model.fit(X, y)\n",
        "\n",
        "# Predict travel time for a new traffic volume\n",
        "new_traffic_volume = np.array([[250]])  # New traffic volume for prediction\n",
        "predicted_travel_time = model.predict(new_traffic_volume)\n",
        "\n",
        "# Print the predicted travel time\n",
        "print(\"Predicted travel time for a traffic volume of\", new_traffic_volume[0][0], \"vehicles per hour:\", predicted_travel_time[0])\n"
      ],
      "metadata": {
        "id": "qSEwwefNlkQu"
      },
      "execution_count": null,
      "outputs": []
    }
  ]
}